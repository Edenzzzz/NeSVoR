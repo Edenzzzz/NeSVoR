{
 "cells": [
  {
   "cell_type": "code",
   "execution_count": 1,
   "metadata": {},
   "outputs": [
    {
     "data": {
      "text/plain": [
       "[<nesvor.image.image.Stack at 0x7f27091dec40>,\n",
       " <nesvor.image.image.Stack at 0x7f2709064a60>,\n",
       " <nesvor.image.image.Stack at 0x7f2709064f40>]"
      ]
     },
     "execution_count": 1,
     "metadata": {},
     "output_type": "execute_result"
    }
   ],
   "source": [
    "import torch\n",
    "from nesvor.image import *\n",
    "from nesvor.transform import *\n",
    "from scipy.spatial.transform import Rotation as R\n",
    "stacks = torch.load(\"stacks_test_angle.pth\")\n",
    "stacks"
   ]
  },
  {
   "cell_type": "code",
   "execution_count": 2,
   "metadata": {},
   "outputs": [
    {
     "data": {
      "text/plain": [
       "tensor([[  1.0633,  -1.4424,   1.2849,  22.7985,  18.6597, -27.8910]],\n",
       "       device='cuda:0')"
      ]
     },
     "execution_count": 2,
     "metadata": {},
     "output_type": "execute_result"
    }
   ],
   "source": [
    "stacks[0].transformation.mean().axisangle()"
   ]
  },
  {
   "cell_type": "markdown",
   "metadata": {},
   "source": [
    "## Stack 1 \n"
   ]
  },
  {
   "cell_type": "code",
   "execution_count": 3,
   "metadata": {},
   "outputs": [
    {
     "name": "stdout",
     "output_type": "stream",
     "text": [
      "angles using provided method:\n",
      "tensor([[ -92.9796,    4.5548, -102.8804]], device='cuda:0')\n",
      "angles using scipy:\n",
      "[[-103.33543194  -77.01773737 -171.55461209]]\n",
      "actual angles: tensor([90.,  0.,  0.])\n"
     ]
    }
   ],
   "source": [
    "from nesvor.transform.transform import *\n",
    "print(\"angles using provided method:\")\n",
    "print(mat2euler(stacks[0].transformation.mean().matrix())[..., -3:])\n",
    "print(\"angles using scipy:\")\n",
    "print(R.from_matrix(stacks[0].transformation.mean().matrix().cpu()[..., :3]).as_euler(\"xyz\", degrees=True))\n",
    "print(\"actual angles:\", stacks[0].rot_angles * 180 / np.pi)"
   ]
  },
  {
   "cell_type": "markdown",
   "metadata": {},
   "source": [
    "## Stack 2\n"
   ]
  },
  {
   "cell_type": "code",
   "execution_count": 4,
   "metadata": {},
   "outputs": [
    {
     "name": "stdout",
     "output_type": "stream",
     "text": [
      "angles using provided method:\n",
      "tensor([[10.1608, 12.1093,  6.2612]], device='cuda:0')\n",
      "angles using scipy:\n",
      "[[ -9.02363169 -12.97320492  -4.15261255]]\n",
      "actual angles: tensor([  0.0000, 180.0000,   0.0000])\n"
     ]
    }
   ],
   "source": [
    "print(\"angles using provided method:\")\n",
    "print(mat2euler(stacks[1].transformation.mean().matrix())[..., -3:])\n",
    "print(\"angles using scipy:\")\n",
    "print(R.from_matrix(stacks[1].transformation.mean().matrix().cpu()[..., :3]).as_euler(\"xyz\", degrees=True))\n",
    "print(\"actual angles:\", stacks[1].rot_angles * 180 / np.pi)"
   ]
  },
  {
   "cell_type": "markdown",
   "metadata": {},
   "source": [
    "## Stack 3"
   ]
  },
  {
   "cell_type": "code",
   "execution_count": 5,
   "metadata": {},
   "outputs": [
    {
     "name": "stdout",
     "output_type": "stream",
     "text": [
      "angles using provided method:\n",
      "tensor([[158.0700,  84.4000,  66.3179]], device='cuda:0')\n",
      "angles using scipy:\n",
      "[[-95.19583916   1.65015977  87.75274959]]\n",
      "actual angles: tensor([ 0.,  0., 90.])\n"
     ]
    }
   ],
   "source": [
    "print(\"angles using provided method:\")\n",
    "print(mat2euler(stacks[2].transformation.mean().matrix())[..., -3:])\n",
    "print(\"angles using scipy:\")\n",
    "print(R.from_matrix(stacks[2].transformation.mean().matrix().cpu()[..., :3]).as_euler(\"xyz\", degrees=True))\n",
    "print(\"actual angles:\", stacks[2].rot_angles * 180 / np.pi)"
   ]
  },
  {
   "cell_type": "markdown",
   "metadata": {},
   "source": [
    "# Ridiculous! 😅"
   ]
  }
 ],
 "metadata": {
  "kernelspec": {
   "display_name": "nesvor",
   "language": "python",
   "name": "python3"
  },
  "language_info": {
   "codemirror_mode": {
    "name": "ipython",
    "version": 3
   },
   "file_extension": ".py",
   "mimetype": "text/x-python",
   "name": "python",
   "nbconvert_exporter": "python",
   "pygments_lexer": "ipython3",
   "version": "3.8.16"
  },
  "orig_nbformat": 4
 },
 "nbformat": 4,
 "nbformat_minor": 2
}
