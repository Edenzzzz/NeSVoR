{
 "cells": [
  {
   "cell_type": "code",
   "execution_count": 2,
   "metadata": {},
   "outputs": [
    {
     "name": "stdout",
     "output_type": "stream",
     "text": [
      "Warning: Open3D was built with CUDA 11.6 butPyTorch was built with CUDA 11.7. Falling back to CPU for now.Otherwise, install PyTorch with CUDA 11.6.\n"
     ]
    },
    {
     "ename": "AttributeError",
     "evalue": "module 'open3d.ml.torch' has no attribute 'nn'",
     "output_type": "error",
     "traceback": [
      "\u001b[0;31m---------------------------------------------------------------------------\u001b[0m",
      "\u001b[0;31mAttributeError\u001b[0m                            Traceback (most recent call last)",
      "Cell \u001b[0;32mIn[2], line 9\u001b[0m\n\u001b[1;32m      6\u001b[0m inp_features \u001b[39m=\u001b[39m torch\u001b[39m.\u001b[39mrandn([\u001b[39m20\u001b[39m,\u001b[39m8\u001b[39m])\n\u001b[1;32m      7\u001b[0m out_positions \u001b[39m=\u001b[39m torch\u001b[39m.\u001b[39mrandint(\u001b[39m0\u001b[39m, \u001b[39m10\u001b[39m, [\u001b[39m20\u001b[39m,\u001b[39m3\u001b[39m])\u001b[39m.\u001b[39mto(torch\u001b[39m.\u001b[39mfloat32)\u001b[39m+\u001b[39m\u001b[39m0.5\u001b[39m\n\u001b[0;32m----> 9\u001b[0m conv \u001b[39m=\u001b[39m ml3d\u001b[39m.\u001b[39;49mnn\u001b[39m.\u001b[39mSparseConv(in_channels\u001b[39m=\u001b[39m\u001b[39m8\u001b[39m, filters\u001b[39m=\u001b[39m\u001b[39m16\u001b[39m, kernel_size\u001b[39m=\u001b[39m[\u001b[39m3\u001b[39m,\u001b[39m3\u001b[39m,\u001b[39m3\u001b[39m])\n\u001b[1;32m     10\u001b[0m out_features \u001b[39m=\u001b[39m conv(inp_features, inp_positions, out_positions, voxel_size\u001b[39m=\u001b[39m\u001b[39m1.0\u001b[39m)\n\u001b[1;32m     11\u001b[0m \u001b[39mprint\u001b[39m(\u001b[39m\"\u001b[39m\u001b[39msparse conv memory: \u001b[39m\u001b[39m\"\u001b[39m, torch\u001b[39m.\u001b[39mcuda\u001b[39m.\u001b[39mmax_memory_allocated() \u001b[39m/\u001b[39m \u001b[39m1e9\u001b[39m)\n",
      "\u001b[0;31mAttributeError\u001b[0m: module 'open3d.ml.torch' has no attribute 'nn'"
     ]
    }
   ],
   "source": [
    "import torch\n",
    "from open3d.ml.torch.layers import SparseConv\n",
    "\n",
    "# +0.5 to move the points to the voxel center\n",
    "inp_positions = torch.randint(0, 10, [20,3]).to(torch.float32)+0.5\n",
    "inp_features = torch.randn([20,8])\n",
    "out_positions = torch.randint(0, 10, [20,3]).to(torch.float32)+0.5\n",
    "\n",
    "conv = SparseConv(in_channels=8, filters=16, kernel_size=[3,3,3])\n",
    "out_features = conv(inp_features, inp_positions, out_positions, voxel_size=1.0)\n",
    "print(\"sparse conv memory: \", torch.cuda.max_memory_allocated() / 1e9)\n",
    "torch.cuda.reset_max_memory_allocated()\n",
    "\n",
    "conv = torch.nn.Conv3d(in_channels=8, out_channels=16, kernel_size=[3,3,3])\n",
    "out_features = conv(inp_features)\n",
    "print(\"vanilla conv memory:\", torch.cuda.max_memory_allocated() / 1e9)"
   ]
  }
 ],
 "metadata": {
  "kernelspec": {
   "display_name": "pytorch3d",
   "language": "python",
   "name": "python3"
  },
  "language_info": {
   "codemirror_mode": {
    "name": "ipython",
    "version": 3
   },
   "file_extension": ".py",
   "mimetype": "text/x-python",
   "name": "python",
   "nbconvert_exporter": "python",
   "pygments_lexer": "ipython3",
   "version": "3.10.11"
  },
  "orig_nbformat": 4
 },
 "nbformat": 4,
 "nbformat_minor": 2
}
