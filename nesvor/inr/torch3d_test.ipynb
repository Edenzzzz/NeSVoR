{
 "cells": [
  {
   "cell_type": "code",
   "execution_count": 4,
   "metadata": {},
   "outputs": [
    {
     "data": {
      "text/plain": [
       "tensor([[[[[0., 0., 0.],\n",
       "           [0., 0., 0.],\n",
       "           [0., 0., 0.]],\n",
       "\n",
       "          [[0., 0., 0.],\n",
       "           [0., 0., 0.],\n",
       "           [0., 0., 0.]],\n",
       "\n",
       "          [[0., 0., 0.],\n",
       "           [0., 0., 0.],\n",
       "           [0., 0., 0.]]]]])"
      ]
     },
     "execution_count": 4,
     "metadata": {},
     "output_type": "execute_result"
    }
   ],
   "source": [
    "import torch\n",
    "from pytorch3d.structures import Volumes, Pointclouds\n",
    "from pytorch3d.ops import add_pointclouds_to_volumes\n",
    "\n",
    "vol = Volumes(\n",
    "    features = torch.zeros(1, 1, 3, 3, 3),\n",
    "    densities = torch.zeros(1, 1, 3, 3, 3),\n",
    ")\n",
    "points = torch.full((1, 100, 3), -1, dtype=torch.float32) \n",
    "points[0, :, 1] -= 1\n",
    "pointclouds = Pointclouds(\n",
    "    points=points, features=torch.ones(1, 100, 1)\n",
    ")\n",
    "vol = add_pointclouds_to_volumes(pointclouds, vol, mode=\"trilinear\", rescale_features=False)\n",
    "vol.features()"
   ]
  }
 ],
 "metadata": {
  "kernelspec": {
   "display_name": "pytorch3d",
   "language": "python",
   "name": "python3"
  },
  "language_info": {
   "codemirror_mode": {
    "name": "ipython",
    "version": 3
   },
   "file_extension": ".py",
   "mimetype": "text/x-python",
   "name": "python",
   "nbconvert_exporter": "python",
   "pygments_lexer": "ipython3",
   "version": "3.9.17"
  },
  "orig_nbformat": 4
 },
 "nbformat": 4,
 "nbformat_minor": 2
}
