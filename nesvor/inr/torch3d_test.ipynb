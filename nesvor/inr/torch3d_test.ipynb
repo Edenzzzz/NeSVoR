{
 "cells": [
  {
   "cell_type": "code",
   "execution_count": 2,
   "metadata": {},
   "outputs": [
    {
     "name": "stdout",
     "output_type": "stream",
     "text": [
      "Local coords: tensor([[0., 0., 0.]])\n"
     ]
    },
    {
     "data": {
      "text/plain": [
       "(tensor([[[[[12.5000, 12.5000],\n",
       "            [12.5000, 12.5000]],\n",
       " \n",
       "           [[12.5000, 12.5000],\n",
       "            [12.5000, 12.5000]]]]]),\n",
       " tensor([[0, 0, 0, 0, 0],\n",
       "         [0, 0, 0, 0, 1],\n",
       "         [0, 0, 0, 1, 0],\n",
       "         [0, 0, 0, 1, 1],\n",
       "         [0, 0, 1, 0, 0],\n",
       "         [0, 0, 1, 0, 1],\n",
       "         [0, 0, 1, 1, 0],\n",
       "         [0, 0, 1, 1, 1]]))"
      ]
     },
     "execution_count": 2,
     "metadata": {},
     "output_type": "execute_result"
    }
   ],
   "source": [
    "import torch\n",
    "from pytorch3d.structures import Volumes, Pointclouds\n",
    "from pytorch3d.ops import add_pointclouds_to_volumes\n",
    "\n",
    "# x_world = x_local * (volume_size - 1) * 0.5 * voxel_size - volume_translation,\n",
    "#\n",
    "# x_local = (x_world + volume_translation) / (0.5 * voxel_size) / (volume_size - 1)\n",
    "vol = Volumes(\n",
    "    features = torch.zeros(1, 1, 2, 2, 2),\n",
    "    densities = torch.zeros(1, 1, 2, 2, 2),\n",
    ")\n",
    "points = torch.full((1, 100, 3), 0, dtype=torch.float32) \n",
    "print(\"Local coords:\", vol.world_to_local_coords(points[:, 0]))\n",
    "pointclouds = Pointclouds(\n",
    "    points=points, features=torch.ones(1, 100, 1)\n",
    ")\n",
    "\n",
    "vol = add_pointclouds_to_volumes(pointclouds, vol, mode=\"trilinear\", rescale_features=False)\n",
    "vol.features(), vol.features().nonzero()"
   ]
  }
 ],
 "metadata": {
  "kernelspec": {
   "display_name": "pytorch3d",
   "language": "python",
   "name": "python3"
  },
  "language_info": {
   "codemirror_mode": {
    "name": "ipython",
    "version": 3
   },
   "file_extension": ".py",
   "mimetype": "text/x-python",
   "name": "python",
   "nbconvert_exporter": "python",
   "pygments_lexer": "ipython3",
   "version": "3.9.17"
  },
  "orig_nbformat": 4
 },
 "nbformat": 4,
 "nbformat_minor": 2
}
