{
 "cells": [
  {
   "cell_type": "code",
   "execution_count": 5,
   "metadata": {},
   "outputs": [],
   "source": [
    "import torch\n",
    "import pytorch3d\n",
    "from pytorch3d.structures import Volumes, Pointclouds\n",
    "from pytorch3d.ops import add_pointclouds_to_volumes\n",
    "\n",
    "@torch.autocast(\"cuda\")\n",
    "def run():\n",
    "    vol = Volumes(\n",
    "        features = torch.zeros(4, 5, 25, 25, 25),\n",
    "        densities = torch.zeros(4, 1, 25, 25, 25),\n",
    "    )\n",
    "    pointclouds = Pointclouds(\n",
    "        points=torch.ones(4, 100, 3), features=torch.rand(4, 100, 5)\n",
    "    )\n",
    "    vol = add_pointclouds_to_volumes(pointclouds, vol, mode=\"trilinear\")\n",
    "    vol.features().nonzero().shape"
   ]
  },
  {
   "cell_type": "code",
   "execution_count": 6,
   "metadata": {},
   "outputs": [],
   "source": [
    "run()"
   ]
  }
 ],
 "metadata": {
  "kernelspec": {
   "display_name": "pytorch3d",
   "language": "python",
   "name": "python3"
  },
  "language_info": {
   "codemirror_mode": {
    "name": "ipython",
    "version": 3
   },
   "file_extension": ".py",
   "mimetype": "text/x-python",
   "name": "python",
   "nbconvert_exporter": "python",
   "pygments_lexer": "ipython3",
   "version": "3.9.17"
  },
  "orig_nbformat": 4
 },
 "nbformat": 4,
 "nbformat_minor": 2
}
